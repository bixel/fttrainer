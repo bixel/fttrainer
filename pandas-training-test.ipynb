{
 "cells": [
  {
   "cell_type": "code",
   "execution_count": 1,
   "metadata": {
    "collapsed": false
   },
   "outputs": [],
   "source": [
    "import os\n",
    "\n",
    "import numpy as np\n",
    "import pandas as pd\n",
    "from root_pandas import read_root, to_root\n",
    "\n",
    "import matplotlib.pyplot as plt\n",
    "\n",
    "from sklearn.cross_validation import train_test_split\n",
    "from sklearn.metrics import roc_auc_score, roc_curve\n",
    "from sklearn.ensemble import GradientBoostingClassifier, RandomForestClassifier\n",
    "\n",
    "import xgboost as xgb\n",
    "\n",
    "from itertools import islice\n",
    "\n",
    "from tqdm import tqdm\n",
    "\n",
    "import ROOT\n",
    "\n",
    "from scripts.data_preparation import get_single_tagging_particles, concat_df_chunks"
   ]
  },
  {
   "cell_type": "code",
   "execution_count": 2,
   "metadata": {
    "collapsed": true
   },
   "outputs": [],
   "source": [
    "%matplotlib inline\n",
    "plt.style.use('ggplot')\n",
    "plt.rcParams['figure.figsize'] = (12, 7)\n",
    "plt.rcParams['font.size'] = 14"
   ]
  },
  {
   "cell_type": "markdown",
   "metadata": {},
   "source": [
    "# Read in Data from `/net/storage`\n",
    "The dataset is huge and does not fit into RAM easily. Thats why in the first place only the essential B-branches are activated. The full 2012 data for $B^+\\to J\\!/\\psi K^+$ contains 54M tagging particle candidates after Selection S1 and S2 which will be held completely in RAM (about 10G physical memory)!"
   ]
  },
  {
   "cell_type": "code",
   "execution_count": 3,
   "metadata": {
    "collapsed": true
   },
   "outputs": [],
   "source": [
    "data_dir = '/home/kheinicke/tank/flavourtagging/'\n",
    "filenames = [\n",
    "    data_dir + 'Bu2JpsiK_MuonTrainingTuple_2012_MD_sweighted_kheinick.root',\n",
    "    data_dir + 'Bu2JpsiK_MuonTrainingTuple_2012_MU_sweighted_kheinick.root',\n",
    "]\n",
    "chunksize = 5000"
   ]
  },
  {
   "cell_type": "code",
   "execution_count": 4,
   "metadata": {
    "collapsed": true
   },
   "outputs": [],
   "source": [
    "# just define some keyword arguments for read_root in a separate dict\n",
    "data_kwargs = dict(\n",
    "    key='DecayTree',  # the tree name\n",
    "    columns=['B_OS_Muon*',  # all branches that should be read\n",
    "             'B_ID',\n",
    "             'B_PT',\n",
    "             'SigYield_sw'\n",
    "            ],\n",
    "    chunksize=chunksize,  # this will create a generator, yielding subsets with 'chunksize' of the data\n",
    "    where='(B_LOKI_MASS_JpsiConstr_NoPVConstr>0)',  # a ROOT where selection, does not work with array-variables\n",
    "    flatten=True  # will flatten the data in the dimension of the first given column\n",
    ")"
   ]
  },
  {
   "cell_type": "code",
   "execution_count": 5,
   "metadata": {
    "collapsed": false
   },
   "outputs": [],
   "source": [
    "# still have to use plain ROOT to get the number of entries...\n",
    "n_entries = 0\n",
    "for fn in filenames:\n",
    "    f = ROOT.TFile(fn)\n",
    "    t = f.Get('DecayTree')\n",
    "    n_entries += t.GetEntries()"
   ]
  },
  {
   "cell_type": "code",
   "execution_count": 6,
   "metadata": {
    "collapsed": false
   },
   "outputs": [
    {
     "name": "stderr",
     "output_type": "stream",
     "text": [
      "100%|██████████| 10/10 [00:18<00:00,  1.78s/it]\n"
     ]
    }
   ],
   "source": [
    "# This will read chunks of the data inside a list comprehension and then concat those to a big dataframe\n",
    "# note that tqdm is just some boilerplate to generate a progressbar\n",
    "# df = pd.concat([df for df in tqdm(read_root(filenames, **data_kwargs), total=n_entries/chunksize)])\n",
    "\n",
    "# only use the first 10 chunks to speed up read process and reduce RAM pressure for development\n",
    "df = pd.concat([df for df in tqdm(islice(read_root(filenames, **data_kwargs), 10), total=10)])"
   ]
  },
  {
   "cell_type": "markdown",
   "metadata": {},
   "source": [
    "We have 54M tagging particle candidates and 34 feature columns:"
   ]
  },
  {
   "cell_type": "code",
   "execution_count": 7,
   "metadata": {
    "collapsed": false
   },
   "outputs": [
    {
     "data": {
      "text/plain": [
       "(3202977, 34)"
      ]
     },
     "execution_count": 7,
     "metadata": {},
     "output_type": "execute_result"
    }
   ],
   "source": [
    "df.shape"
   ]
  },
  {
   "cell_type": "markdown",
   "metadata": {},
   "source": [
    "## Cleanup and Target definition\n",
    "The dataset might contain some infs and NANs with which the classifiers might have problems. We'll just drop them or replace them by some default values.\n",
    "\n",
    "(The current dataset contains values of an older version of IPPUs which resultet in infs)"
   ]
  },
  {
   "cell_type": "code",
   "execution_count": 8,
   "metadata": {
    "collapsed": false
   },
   "outputs": [],
   "source": [
    "df.replace(np.inf, 10000, inplace=True)\n",
    "df.dropna(inplace=True)"
   ]
  },
  {
   "cell_type": "markdown",
   "metadata": {},
   "source": [
    "After cleaning up, add the target that should be predicted. Here we use whether the charge of the tagging particle candidate matches the charge of the signal candidate. The MVA will therefore predict a \"correct tag estimate\"."
   ]
  },
  {
   "cell_type": "code",
   "execution_count": 9,
   "metadata": {
    "collapsed": true
   },
   "outputs": [],
   "source": [
    "df['target'] = np.sign(df.B_ID) == np.sign(df.B_OS_Muon_ID)"
   ]
  },
  {
   "cell_type": "code",
   "execution_count": 21,
   "metadata": {
    "collapsed": true
   },
   "outputs": [],
   "source": [
    "# use abs(phiDistance)\n",
    "df.B_OS_Muon_phiDistance = np.abs(df.B_OS_Muon_phiDistance)"
   ]
  },
  {
   "cell_type": "markdown",
   "metadata": {},
   "source": [
    "# Define the classic muon tagger features and prepare the training dataset"
   ]
  },
  {
   "cell_type": "code",
   "execution_count": 10,
   "metadata": {
    "collapsed": false
   },
   "outputs": [],
   "source": [
    "classic_MVA_features = [\n",
    "    'B_OS_Muon_countTracks',  # aka mult\n",
    "    'B_OS_Muon_P',\n",
    "    'B_OS_Muon_PT',\n",
    "    'B_PT',\n",
    "    'B_OS_Muon_ABS_RecVertexIP',  # aka IPs\n",
    "    'B_OS_Muon_TRCHI2DOF',\n",
    "    'B_OS_Muon_PROBNNmu',\n",
    "    'B_OS_Muon_TRGHP',\n",
    "    'B_OS_Muon_IPPUs',\n",
    "]"
   ]
  },
  {
   "cell_type": "code",
   "execution_count": 11,
   "metadata": {
    "collapsed": false
   },
   "outputs": [],
   "source": [
    "# scale the data to make it usable for TMVA aswell\n",
    "# /= 1000 somehow kills the kernel. Maybe a bug in pandas?\n",
    "df.B_OS_Muon_P *= 0.001\n",
    "df.B_OS_Muon_PT *= 0.001\n",
    "df.B_PT *= 0.001"
   ]
  },
  {
   "cell_type": "markdown",
   "metadata": {},
   "source": [
    "# Apply Muon Selections"
   ]
  },
  {
   "cell_type": "code",
   "execution_count": 28,
   "metadata": {
    "collapsed": true
   },
   "outputs": [],
   "source": [
    "# define all the classic selections for muon tagger here for a query\n",
    "queries = [\n",
    "    'B_OS_Muon_P > 0',\n",
    "    'B_OS_Muon_PT > 0.5',\n",
    "    'B_OS_Muon_IsSignalDaughter == 0',\n",
    "    'B_OS_Muon_phiDistance > 0.005',\n",
    "    'B_OS_Muon_MuonPIDIsMuon == 1',\n",
    "    'B_OS_Muon_TRCHI2DOF < 3',\n",
    "    'B_OS_Muon_RecVertexIP > 0',\n",
    "    'B_OS_Muon_TRGHP < 0.4',\n",
    "    'B_OS_Muon_PROBNNmu > 0.35',\n",
    "    'B_OS_Muon_PROBNNpi < 0.8',\n",
    "    'B_OS_Muon_PROBNNe < 0.8',\n",
    "    'B_OS_Muon_PROBNNk < 0.8',\n",
    "    'B_OS_Muon_PROBNNp < 0.8',\n",
    "#    'SigYield_sw > 0'\n",
    "]"
   ]
  },
  {
   "cell_type": "code",
   "execution_count": 101,
   "metadata": {
    "collapsed": false
   },
   "outputs": [
    {
     "name": "stdout",
     "output_type": "stream",
     "text": [
      "Efficiency 17.992%\n"
     ]
    }
   ],
   "source": [
    "# apply query\n",
    "selected_data = df.query(' and '.join(queries))\n",
    "\n",
    "labels = selected_data.target\n",
    "\n",
    "selection_efficiency = len(selected_data) / len(np.unique(df.B_PT))\n",
    "print('Efficiency {:2.3f}%'.format(100 * selection_efficiency))"
   ]
  },
  {
   "cell_type": "code",
   "execution_count": 29,
   "metadata": {
    "collapsed": false,
    "scrolled": true
   },
   "outputs": [
    {
     "data": {
      "text/plain": [
       "(8025, 35)"
      ]
     },
     "execution_count": 29,
     "metadata": {},
     "output_type": "execute_result"
    }
   ],
   "source": [
    "selected_data.shape"
   ]
  },
  {
   "cell_type": "markdown",
   "metadata": {},
   "source": [
    "# And order by transverse momentum"
   ]
  },
  {
   "cell_type": "code",
   "execution_count": 92,
   "metadata": {
    "collapsed": false
   },
   "outputs": [
    {
     "name": "stdout",
     "output_type": "stream",
     "text": [
      "Efficiency 6.728%\n"
     ]
    }
   ],
   "source": [
    "# groupby will group the rows by given column (in this case B_PT is used as there was now event id information)\n",
    "# .agg(np.argmax) will then call argmax in every group, which will result in the indices of the element with maximum\n",
    "# transverse momentum\n",
    "max_pt_data = selected_data.loc[selected_data.groupby('B_PT')['B_OS_Muon_PT'].agg(np.argmax).astype('int')]\n",
    "\n",
    "# store labels separately\n",
    "labels = max_pt_data.target\n",
    "\n",
    "# calculate efficiency of this selection\n",
    "max_pt_efficiency = len(max_pt_data) / len(np.unique(df.B_PT))\n",
    "print('Efficiency {:2.3f}%'.format(100 * max_pt_efficiency))"
   ]
  },
  {
   "cell_type": "markdown",
   "metadata": {},
   "source": [
    "### Print the features after selection"
   ]
  },
  {
   "cell_type": "code",
   "execution_count": 113,
   "metadata": {
    "collapsed": false,
    "scrolled": false
   },
   "outputs": [
    {
     "name": "stderr",
     "output_type": "stream",
     "text": [
      "  9%|▊         | 3/35 [00:01<00:19,  1.66it/s]\n"
     ]
    },
    {
     "data": {
      "image/png": "[encoded data removed]",
      "text/plain": [
       "<matplotlib.figure.Figure at 0x7f8f58cf99e8>"
      ]
     },
     "metadata": {},
     "output_type": "display_data"
    }
   ],
   "source": [
    "ncols = 3\n",
    "nrows = np.ceil(len(selected_data.columns)/ncols)\n",
    "plt.figure(figsize=(20, nrows * 5))\n",
    "for i, f in tqdm(enumerate(selected_data.columns), total=len(selected_data.columns)):\n",
    "    plt.subplot(nrows, ncols, i+1)\n",
    "    _, bins = np.histogram(df[f], 30)\n",
    "    max_pt_data[max_pt_data.target==True][f].hist(bins=bins, label='True', alpha=0.5, normed=True)\n",
    "    max_pt_data[max_pt_data.target==False][f].hist(bins=bins, label='False', alpha=0.5, normed=True)\n",
    "    df[df.target==True][f].hist(bins=bins, label='True', histtype='step', normed=True)\n",
    "    df[df.target==False][f].hist(bins=bins, label='False', histtype='step', normed=True)\n",
    "    plt.title(f[:24])\n",
    "    plt.legend(loc='best')\n",
    "plt.tight_layout()\n",
    "plt.show()"
   ]
  },
  {
   "cell_type": "markdown",
   "metadata": {},
   "source": [
    "# Train some Classifiers"
   ]
  },
  {
   "cell_type": "code",
   "execution_count": 93,
   "metadata": {
    "collapsed": false
   },
   "outputs": [],
   "source": [
    "def avg_dilution(labels, prediction, threshold=0.5):\n",
    "    \"\"\" Return average dilution\n",
    "    \"\"\"\n",
    "    # list of wrongly tagged rows\n",
    "    mistagged = labels != (prediction > threshold)\n",
    "    omega = np.sum(mistags) / len(labels)\n",
    "    return 1 - 2*omega"
   ]
  },
  {
   "cell_type": "code",
   "execution_count": 94,
   "metadata": {
    "collapsed": false
   },
   "outputs": [],
   "source": [
    "# split dataset and labels into random subsets, 70% train data, 30% test data\n",
    "train_data, test_data, train_labels, test_labels = train_test_split(max_pt_data, labels, test_size=0.3)"
   ]
  },
  {
   "cell_type": "code",
   "execution_count": 102,
   "metadata": {
    "collapsed": true
   },
   "outputs": [],
   "source": [
    "# define a XGBoost Classifier\n",
    "xgboost_model = xgb.XGBClassifier(max_depth=5, n_estimators=300, learning_rate=0.01, seed=1)"
   ]
  },
  {
   "cell_type": "code",
   "execution_count": 103,
   "metadata": {
    "collapsed": false
   },
   "outputs": [
    {
     "data": {
      "text/plain": [
       "XGBClassifier(base_score=0.5, colsample_bylevel=1, colsample_bytree=1,\n",
       "       gamma=0, learning_rate=0.01, max_delta_step=0, max_depth=5,\n",
       "       min_child_weight=1, missing=None, n_estimators=300, nthread=-1,\n",
       "       objective='binary:logistic', reg_alpha=0, reg_lambda=1,\n",
       "       scale_pos_weight=1, seed=1, silent=True, subsample=1)"
      ]
     },
     "execution_count": 103,
     "metadata": {},
     "output_type": "execute_result"
    }
   ],
   "source": [
    "# train the classifier\n",
    "xgboost_model.fit(train_data[classic_MVA_features], train_labels)"
   ]
  },
  {
   "cell_type": "code",
   "execution_count": 104,
   "metadata": {
    "collapsed": false,
    "scrolled": true
   },
   "outputs": [],
   "source": [
    "# receive probability predictions for being \"TRUE\" (tag is correct)\n",
    "probas = xgboost_model.predict_proba(test_data[classic_MVA_features])[:,1]\n",
    "preds = xgboost_model.predict(test_data[classic_MVA_features])  # essentially just probas > 0.5\n",
    "\n",
    "# calculate roc_auc_scored\n",
    "score = roc_auc_score(test_labels, probas)"
   ]
  },
  {
   "cell_type": "code",
   "execution_count": 105,
   "metadata": {
    "collapsed": false
   },
   "outputs": [
    {
     "data": {
      "image/png": "[encoded data removed]",
      "text/plain": [
       "<matplotlib.figure.Figure at 0x7f8f85853080>"
      ]
     },
     "metadata": {},
     "output_type": "display_data"
    }
   ],
   "source": [
    "plt.figure(figsize=(10, 10))\n",
    "plt.plot(*roc_curve(test_labels, probas)[:2], label='XGB ROC AUC {:2.3f}%'.format(score * 100))\n",
    "plt.plot([0, 1], '--', label='random')\n",
    "plt.legend(loc='best')\n",
    "plt.show()"
   ]
  },
  {
   "cell_type": "code",
   "execution_count": 106,
   "metadata": {
    "collapsed": false
   },
   "outputs": [
    {
     "name": "stdout",
     "output_type": "stream",
     "text": [
      "eps_eff = 0.165%\n"
     ]
    }
   ],
   "source": [
    "print('eps_eff = {:2.3f}%'.format(100 * max_pt_efficiency * avg_dilution(test_labels, probas)**2))"
   ]
  },
  {
   "cell_type": "code",
   "execution_count": 107,
   "metadata": {
    "collapsed": false
   },
   "outputs": [
    {
     "data": {
      "text/html": [
       "Download model <a href='trained_model.xgb' target='_blank'>trained_model.xgb</a><br>"
      ],
      "text/plain": [
       "/home/kheinicke/repos/fttrainer/trained_model.xgb"
      ]
     },
     "execution_count": 107,
     "metadata": {},
     "output_type": "execute_result"
    }
   ],
   "source": [
    "from IPython.display import FileLink\n",
    "b = xgboost_model.booster()\n",
    "b.save_model('trained_model.xgb')\n",
    "# TaggingClassifer can now use this model via `tagging_classifier.ClassifierFilename = 'trained_model.xgb'`\n",
    "FileLink('trained_model.xgb', result_html_prefix='Download model ')"
   ]
  }
 ],
 "metadata": {
  "kernelspec": {
   "display_name": "Python 3",
   "language": "python",
   "name": "python3"
  },
  "language_info": {
   "codemirror_mode": {
    "name": "ipython",
    "version": 3
   },
   "file_extension": ".py",
   "mimetype": "text/x-python",
   "name": "python",
   "nbconvert_exporter": "python",
   "pygments_lexer": "ipython3",
   "version": "3.5.2"
  }
 },
 "nbformat": 4,
 "nbformat_minor": 0
}
