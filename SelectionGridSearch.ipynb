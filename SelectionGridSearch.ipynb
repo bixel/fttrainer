{
 "cells": [
  {
   "cell_type": "code",
   "execution_count": 163,
   "metadata": {
    "collapsed": true
   },
   "outputs": [],
   "source": [
    "from IPython.display import HTML, display\n",
    "\n",
    "import os\n",
    "\n",
    "import numpy as np\n",
    "import pandas as pd\n",
    "from root_pandas import read_root, to_root\n",
    "\n",
    "import matplotlib.pyplot as plt\n",
    "\n",
    "from sklearn.cross_validation import train_test_split\n",
    "from sklearn.metrics import roc_auc_score, roc_curve, precision_recall_curve\n",
    "from sklearn.ensemble import GradientBoostingClassifier, RandomForestClassifier\n",
    "from sklearn.base import BaseEstimator\n",
    "from sklearn.grid_search import RandomizedSearchCV\n",
    "\n",
    "from xgboost import XGBClassifier\n",
    "\n",
    "from itertools import islice\n",
    "\n",
    "from tqdm import tqdm\n",
    "\n",
    "import ROOT\n",
    "\n",
    "from collections import OrderedDict"
   ]
  },
  {
   "cell_type": "code",
   "execution_count": 2,
   "metadata": {
    "collapsed": true
   },
   "outputs": [],
   "source": [
    "%matplotlib inline\n",
    "plt.style.use('ggplot')\n",
    "plt.rcParams['figure.figsize'] = (10, 10)\n",
    "plt.rcParams['font.size'] = 14"
   ]
  },
  {
   "cell_type": "markdown",
   "metadata": {},
   "source": [
    "# Read and prepare Data"
   ]
  },
  {
   "cell_type": "code",
   "execution_count": 3,
   "metadata": {
    "collapsed": true
   },
   "outputs": [],
   "source": [
    "data_dir = '/home/kheinicke/tank/flavourtagging/'\n",
    "filenames = [\n",
    "    data_dir + 'Bu2JpsiK_MuonTrainingTuple_2012_MD_sweighted_kheinick.root',\n",
    "    data_dir + 'Bu2JpsiK_MuonTrainingTuple_2012_MU_sweighted_kheinick.root',\n",
    "]\n",
    "chunksize = 5000"
   ]
  },
  {
   "cell_type": "code",
   "execution_count": 4,
   "metadata": {
    "collapsed": true
   },
   "outputs": [],
   "source": [
    "# just define some keyword arguments for read_root in a separate dict\n",
    "data_kwargs = dict(\n",
    "    key='DecayTree',  # the tree name\n",
    "    columns=['B_OS_Muon*',  # all branches that should be read\n",
    "             'B_ID',\n",
    "             'B_PT',\n",
    "             'SigYield_sw'\n",
    "            ],\n",
    "    chunksize=chunksize,  # this will create a generator, yielding subsets with 'chunksize' of the data\n",
    "    where='(B_LOKI_MASS_JpsiConstr_NoPVConstr>0)',  # a ROOT where selection, does not work with array-variables\n",
    "    flatten=True  # will flatten the data in the dimension of the first given column\n",
    ")"
   ]
  },
  {
   "cell_type": "code",
   "execution_count": 5,
   "metadata": {
    "collapsed": true
   },
   "outputs": [],
   "source": [
    "# still have to use plain ROOT to get the number of entries...\n",
    "n_entries = 0\n",
    "for fn in filenames:\n",
    "    f = ROOT.TFile(fn)\n",
    "    t = f.Get('DecayTree')\n",
    "    n_entries += t.GetEntries()"
   ]
  },
  {
   "cell_type": "code",
   "execution_count": 6,
   "metadata": {
    "collapsed": false
   },
   "outputs": [
    {
     "name": "stderr",
     "output_type": "stream",
     "text": [
      "100%|██████████| 10/10 [00:19<00:00,  1.86s/it]\n"
     ]
    }
   ],
   "source": [
    "# This will read chunks of the data inside a list comprehension and then concat those to a big dataframe\n",
    "# note that tqdm is just some boilerplate to generate a progressbar\n",
    "# df = pd.concat([df for df in tqdm(read_root(filenames, **data_kwargs), total=n_entries/chunksize)])\n",
    "\n",
    "# only use the first 10 chunks to speed up read process and reduce RAM pressure for development\n",
    "df = pd.concat([df for df in tqdm(islice(read_root(filenames, **data_kwargs), 10), total=10)])"
   ]
  },
  {
   "cell_type": "code",
   "execution_count": 7,
   "metadata": {
    "collapsed": false
   },
   "outputs": [
    {
     "data": {
      "text/plain": [
       "(3202977, 34)"
      ]
     },
     "execution_count": 7,
     "metadata": {},
     "output_type": "execute_result"
    }
   ],
   "source": [
    "df.shape"
   ]
  },
  {
   "cell_type": "code",
   "execution_count": 8,
   "metadata": {
    "collapsed": true
   },
   "outputs": [],
   "source": [
    "df.replace(np.inf, 10000, inplace=True)\n",
    "df.dropna(inplace=True)"
   ]
  },
  {
   "cell_type": "code",
   "execution_count": 9,
   "metadata": {
    "collapsed": true
   },
   "outputs": [],
   "source": [
    "df['target'] = np.sign(df.B_ID) == np.sign(df.B_OS_Muon_ID)"
   ]
  },
  {
   "cell_type": "code",
   "execution_count": 10,
   "metadata": {
    "collapsed": true
   },
   "outputs": [],
   "source": [
    "# use abs(phiDistance)\n",
    "df.B_OS_Muon_phiDistance = np.abs(df.B_OS_Muon_phiDistance)"
   ]
  },
  {
   "cell_type": "code",
   "execution_count": 11,
   "metadata": {
    "collapsed": true
   },
   "outputs": [],
   "source": [
    "# scale the data to make it usable for TMVA aswell\n",
    "# /= 1000 somehow kills the kernel. Maybe a bug in pandas?\n",
    "df.B_OS_Muon_P *= 0.001\n",
    "df.B_OS_Muon_PT *= 0.001\n",
    "df.B_PT *= 0.001"
   ]
  },
  {
   "cell_type": "code",
   "execution_count": 260,
   "metadata": {
    "collapsed": false
   },
   "outputs": [
    {
     "data": {
      "text/html": [
       "<table border=\"1\" class=\"dataframe\">\n",
       "  <thead>\n",
       "    <tr style=\"text-align: right;\">\n",
       "      <th></th>\n",
       "      <th>B_OS_Muon_DEC</th>\n",
       "      <th>B_OS_Muon_PROB</th>\n",
       "      <th>B_OS_Muon_PARTICLES_NUM</th>\n",
       "      <th>B_OS_Muon_ABSID</th>\n",
       "      <th>B_OS_Muon_P</th>\n",
       "      <th>B_OS_Muon_PT</th>\n",
       "      <th>B_OS_Muon_TRCHI2DOF</th>\n",
       "      <th>B_OS_Muon_BPVIPCHI2()</th>\n",
       "      <th>B_OS_Muon_TRTYPE</th>\n",
       "      <th>B_OS_Muon_PIDmu</th>\n",
       "      <th>B_OS_Muon_IPPUs</th>\n",
       "      <th>B_OS_Muon_TRGHP</th>\n",
       "      <th>B_OS_Muon_PROBNNmu</th>\n",
       "      <th>B_OS_Muon_PROBNNpi</th>\n",
       "      <th>B_OS_Muon_PROBNNe</th>\n",
       "      <th>B_OS_Muon_PROBNNk</th>\n",
       "      <th>B_OS_Muon_PROBNNp</th>\n",
       "      <th>B_OS_Muon_PP_HASMUONPID</th>\n",
       "      <th>B_OS_Muon_PP_MuonPIDStatus</th>\n",
       "      <th>B_OS_Muon_IsSignalDaughter</th>\n",
       "      <th>B_OS_Muon_Signal_P</th>\n",
       "      <th>B_OS_Muon_phiDistance</th>\n",
       "      <th>B_OS_Muon_MuonPIDIsMuon</th>\n",
       "      <th>B_OS_Muon_RecVertexIP</th>\n",
       "      <th>B_OS_Muon_countTracks</th>\n",
       "      <th>B_OS_Muon_Signal_PT</th>\n",
       "      <th>B_OS_Muon_ABS_RecVertexIP</th>\n",
       "      <th>B_OS_Muon_KEY</th>\n",
       "      <th>B_OS_Muon_Q</th>\n",
       "      <th>B_OS_Muon_ID</th>\n",
       "      <th>B_ID</th>\n",
       "      <th>B_PT</th>\n",
       "      <th>SigYield_sw</th>\n",
       "      <th>__array_index</th>\n",
       "    </tr>\n",
       "  </thead>\n",
       "  <tbody>\n",
       "    <tr>\n",
       "      <th>count</th>\n",
       "      <td>3.202975e+06</td>\n",
       "      <td>3.202975e+06</td>\n",
       "      <td>3.202975e+06</td>\n",
       "      <td>3.202975e+06</td>\n",
       "      <td>3.202975e+06</td>\n",
       "      <td>3.202975e+06</td>\n",
       "      <td>3.202975e+06</td>\n",
       "      <td>3.202975e+06</td>\n",
       "      <td>3.202975e+06</td>\n",
       "      <td>3.202975e+06</td>\n",
       "      <td>3.202975e+06</td>\n",
       "      <td>3.202975e+06</td>\n",
       "      <td>3.202975e+06</td>\n",
       "      <td>3.202975e+06</td>\n",
       "      <td>3.202975e+06</td>\n",
       "      <td>3.202975e+06</td>\n",
       "      <td>3.202975e+06</td>\n",
       "      <td>3.202975e+06</td>\n",
       "      <td>3.202975e+06</td>\n",
       "      <td>3.202975e+06</td>\n",
       "      <td>3.202975e+06</td>\n",
       "      <td>3.202975e+06</td>\n",
       "      <td>3.202975e+06</td>\n",
       "      <td>3.202975e+06</td>\n",
       "      <td>3.202975e+06</td>\n",
       "      <td>3.202975e+06</td>\n",
       "      <td>3.202975e+06</td>\n",
       "      <td>3.202975e+06</td>\n",
       "      <td>3.202975e+06</td>\n",
       "      <td>3.202975e+06</td>\n",
       "      <td>3.202975e+06</td>\n",
       "      <td>3.202975e+06</td>\n",
       "      <td>3.202975e+06</td>\n",
       "      <td>3.202975e+06</td>\n",
       "    </tr>\n",
       "    <tr>\n",
       "      <th>mean</th>\n",
       "      <td>-5.894520e-04</td>\n",
       "      <td>4.963348e-01</td>\n",
       "      <td>7.983014e+01</td>\n",
       "      <td>1.964313e+02</td>\n",
       "      <td>1.411508e+01</td>\n",
       "      <td>8.099842e-01</td>\n",
       "      <td>1.369438e+00</td>\n",
       "      <td>1.428027e+03</td>\n",
       "      <td>3.052793e+00</td>\n",
       "      <td>-2.090171e+00</td>\n",
       "      <td>1.834018e+03</td>\n",
       "      <td>9.496503e-02</td>\n",
       "      <td>-7.713597e-01</td>\n",
       "      <td>5.065439e-01</td>\n",
       "      <td>3.926915e-02</td>\n",
       "      <td>1.294321e-01</td>\n",
       "      <td>5.128326e-02</td>\n",
       "      <td>9.531145e-01</td>\n",
       "      <td>8.059544e+00</td>\n",
       "      <td>9.416027e-02</td>\n",
       "      <td>1.095291e+05</td>\n",
       "      <td>1.516547e+00</td>\n",
       "      <td>1.215710e-01</td>\n",
       "      <td>-7.522802e+00</td>\n",
       "      <td>5.300428e+01</td>\n",
       "      <td>5.890440e+03</td>\n",
       "      <td>4.235833e+01</td>\n",
       "      <td>2.409077e+01</td>\n",
       "      <td>4.365629e-03</td>\n",
       "      <td>1.207360e+00</td>\n",
       "      <td>1.056599e+01</td>\n",
       "      <td>5.890444e+00</td>\n",
       "      <td>8.387301e-01</td>\n",
       "      <td>3.941507e+01</td>\n",
       "    </tr>\n",
       "    <tr>\n",
       "      <th>std</th>\n",
       "      <td>1.468319e-01</td>\n",
       "      <td>2.469108e-02</td>\n",
       "      <td>3.674852e+01</td>\n",
       "      <td>8.600877e+01</td>\n",
       "      <td>1.719228e+01</td>\n",
       "      <td>9.411014e-01</td>\n",
       "      <td>5.600109e-01</td>\n",
       "      <td>2.294158e+04</td>\n",
       "      <td>2.236190e-01</td>\n",
       "      <td>4.830739e+00</td>\n",
       "      <td>3.807365e+03</td>\n",
       "      <td>1.227520e-01</td>\n",
       "      <td>5.223371e-01</td>\n",
       "      <td>3.701634e-01</td>\n",
       "      <td>1.511030e-01</td>\n",
       "      <td>2.349070e-01</td>\n",
       "      <td>1.061528e-01</td>\n",
       "      <td>2.113936e-01</td>\n",
       "      <td>8.490753e+00</td>\n",
       "      <td>2.920516e-01</td>\n",
       "      <td>6.857273e+04</td>\n",
       "      <td>9.273999e-01</td>\n",
       "      <td>3.267898e-01</td>\n",
       "      <td>1.187963e+02</td>\n",
       "      <td>2.152971e+01</td>\n",
       "      <td>4.411547e+03</td>\n",
       "      <td>1.112427e+02</td>\n",
       "      <td>2.715489e+01</td>\n",
       "      <td>9.999906e-01</td>\n",
       "      <td>2.144326e+02</td>\n",
       "      <td>5.208929e+02</td>\n",
       "      <td>4.411547e+00</td>\n",
       "      <td>6.362577e-01</td>\n",
       "      <td>3.132314e+01</td>\n",
       "    </tr>\n",
       "    <tr>\n",
       "      <th>min</th>\n",
       "      <td>-1.000000e+00</td>\n",
       "      <td>3.300000e-01</td>\n",
       "      <td>6.000000e+00</td>\n",
       "      <td>1.100000e+01</td>\n",
       "      <td>2.000000e+00</td>\n",
       "      <td>2.404586e-02</td>\n",
       "      <td>1.569664e-02</td>\n",
       "      <td>2.794452e-07</td>\n",
       "      <td>3.000000e+00</td>\n",
       "      <td>-1.402550e+01</td>\n",
       "      <td>1.419363e-03</td>\n",
       "      <td>0.000000e+00</td>\n",
       "      <td>-1.000000e+00</td>\n",
       "      <td>1.629600e-11</td>\n",
       "      <td>1.152776e-12</td>\n",
       "      <td>7.464647e-09</td>\n",
       "      <td>5.053078e-09</td>\n",
       "      <td>0.000000e+00</td>\n",
       "      <td>0.000000e+00</td>\n",
       "      <td>0.000000e+00</td>\n",
       "      <td>2.157805e+04</td>\n",
       "      <td>1.219611e-06</td>\n",
       "      <td>0.000000e+00</td>\n",
       "      <td>-3.200756e+03</td>\n",
       "      <td>3.000000e+00</td>\n",
       "      <td>3.523140e+01</td>\n",
       "      <td>1.025922e-03</td>\n",
       "      <td>0.000000e+00</td>\n",
       "      <td>-1.000000e+00</td>\n",
       "      <td>-3.210000e+02</td>\n",
       "      <td>-5.210000e+02</td>\n",
       "      <td>3.523140e-02</td>\n",
       "      <td>-1.553189e+00</td>\n",
       "      <td>0.000000e+00</td>\n",
       "    </tr>\n",
       "    <tr>\n",
       "      <th>25%</th>\n",
       "      <td>0.000000e+00</td>\n",
       "      <td>5.000000e-01</td>\n",
       "      <td>5.400000e+01</td>\n",
       "      <td>2.110000e+02</td>\n",
       "      <td>4.610885e+00</td>\n",
       "      <td>2.631437e-01</td>\n",
       "      <td>9.698763e-01</td>\n",
       "      <td>7.776059e-01</td>\n",
       "      <td>3.000000e+00</td>\n",
       "      <td>-5.870314e+00</td>\n",
       "      <td>2.167583e+00</td>\n",
       "      <td>1.147318e-02</td>\n",
       "      <td>-1.000000e+00</td>\n",
       "      <td>1.035505e-01</td>\n",
       "      <td>8.555922e-06</td>\n",
       "      <td>2.731317e-03</td>\n",
       "      <td>1.247896e-03</td>\n",
       "      <td>1.000000e+00</td>\n",
       "      <td>6.000000e+00</td>\n",
       "      <td>0.000000e+00</td>\n",
       "      <td>6.335276e+04</td>\n",
       "      <td>6.898171e-01</td>\n",
       "      <td>0.000000e+00</td>\n",
       "      <td>-2.315419e+00</td>\n",
       "      <td>3.800000e+01</td>\n",
       "      <td>2.845576e+03</td>\n",
       "      <td>1.330141e+00</td>\n",
       "      <td>5.000000e+00</td>\n",
       "      <td>-1.000000e+00</td>\n",
       "      <td>-2.110000e+02</td>\n",
       "      <td>-5.210000e+02</td>\n",
       "      <td>2.845576e+00</td>\n",
       "      <td>9.202347e-01</td>\n",
       "      <td>1.600000e+01</td>\n",
       "    </tr>\n",
       "    <tr>\n",
       "      <th>50%</th>\n",
       "      <td>0.000000e+00</td>\n",
       "      <td>5.000000e-01</td>\n",
       "      <td>7.400000e+01</td>\n",
       "      <td>2.110000e+02</td>\n",
       "      <td>8.205570e+00</td>\n",
       "      <td>5.018704e-01</td>\n",
       "      <td>1.247561e+00</td>\n",
       "      <td>2.788993e+00</td>\n",
       "      <td>3.000000e+00</td>\n",
       "      <td>-2.329757e+00</td>\n",
       "      <td>2.402797e+01</td>\n",
       "      <td>3.530880e-02</td>\n",
       "      <td>-1.000000e+00</td>\n",
       "      <td>5.494361e-01</td>\n",
       "      <td>1.282700e-04</td>\n",
       "      <td>2.230119e-02</td>\n",
       "      <td>1.017048e-02</td>\n",
       "      <td>1.000000e+00</td>\n",
       "      <td>6.000000e+00</td>\n",
       "      <td>0.000000e+00</td>\n",
       "      <td>9.126573e+04</td>\n",
       "      <td>1.492417e+00</td>\n",
       "      <td>0.000000e+00</td>\n",
       "      <td>7.410913e-01</td>\n",
       "      <td>5.100000e+01</td>\n",
       "      <td>4.845008e+03</td>\n",
       "      <td>4.268687e+00</td>\n",
       "      <td>1.500000e+01</td>\n",
       "      <td>1.000000e+00</td>\n",
       "      <td>1.100000e+01</td>\n",
       "      <td>5.210000e+02</td>\n",
       "      <td>4.845008e+00</td>\n",
       "      <td>1.123374e+00</td>\n",
       "      <td>3.300000e+01</td>\n",
       "    </tr>\n",
       "    <tr>\n",
       "      <th>75%</th>\n",
       "      <td>0.000000e+00</td>\n",
       "      <td>5.000000e-01</td>\n",
       "      <td>9.900000e+01</td>\n",
       "      <td>2.110000e+02</td>\n",
       "      <td>1.610729e+01</td>\n",
       "      <td>9.761887e-01</td>\n",
       "      <td>1.650789e+00</td>\n",
       "      <td>1.612128e+01</td>\n",
       "      <td>3.000000e+00</td>\n",
       "      <td>1.133154e+00</td>\n",
       "      <td>2.003958e+02</td>\n",
       "      <td>1.344777e-01</td>\n",
       "      <td>-1.000000e+00</td>\n",
       "      <td>8.764799e-01</td>\n",
       "      <td>2.518686e-03</td>\n",
       "      <td>1.150865e-01</td>\n",
       "      <td>4.796367e-02</td>\n",
       "      <td>1.000000e+00</td>\n",
       "      <td>6.000000e+00</td>\n",
       "      <td>0.000000e+00</td>\n",
       "      <td>1.346460e+05</td>\n",
       "      <td>2.328423e+00</td>\n",
       "      <td>0.000000e+00</td>\n",
       "      <td>8.230272e+00</td>\n",
       "      <td>6.500000e+01</td>\n",
       "      <td>7.691630e+03</td>\n",
       "      <td>3.047918e+01</td>\n",
       "      <td>3.400000e+01</td>\n",
       "      <td>1.000000e+00</td>\n",
       "      <td>2.110000e+02</td>\n",
       "      <td>5.210000e+02</td>\n",
       "      <td>7.691630e+00</td>\n",
       "      <td>1.163524e+00</td>\n",
       "      <td>5.600000e+01</td>\n",
       "    </tr>\n",
       "    <tr>\n",
       "      <th>max</th>\n",
       "      <td>1.000000e+00</td>\n",
       "      <td>5.000000e-01</td>\n",
       "      <td>3.310000e+02</td>\n",
       "      <td>3.210000e+02</td>\n",
       "      <td>1.999988e+02</td>\n",
       "      <td>9.999019e+00</td>\n",
       "      <td>2.999997e+00</td>\n",
       "      <td>5.156433e+06</td>\n",
       "      <td>4.000000e+00</td>\n",
       "      <td>1.461949e+01</td>\n",
       "      <td>1.000000e+04</td>\n",
       "      <td>4.999995e-01</td>\n",
       "      <td>9.997579e-01</td>\n",
       "      <td>9.999716e-01</td>\n",
       "      <td>9.999357e-01</td>\n",
       "      <td>9.999824e-01</td>\n",
       "      <td>9.990733e-01</td>\n",
       "      <td>1.000000e+00</td>\n",
       "      <td>3.100000e+01</td>\n",
       "      <td>1.000000e+00</td>\n",
       "      <td>9.065046e+05</td>\n",
       "      <td>3.141590e+00</td>\n",
       "      <td>1.000000e+00</td>\n",
       "      <td>2.270778e+03</td>\n",
       "      <td>1.840000e+02</td>\n",
       "      <td>6.424391e+04</td>\n",
       "      <td>3.200756e+03</td>\n",
       "      <td>5.220000e+02</td>\n",
       "      <td>1.000000e+00</td>\n",
       "      <td>3.210000e+02</td>\n",
       "      <td>5.210000e+02</td>\n",
       "      <td>6.424390e+01</td>\n",
       "      <td>1.172890e+00</td>\n",
       "      <td>3.300000e+02</td>\n",
       "    </tr>\n",
       "  </tbody>\n",
       "</table>"
      ],
      "text/plain": [
       "<IPython.core.display.HTML object>"
      ]
     },
     "metadata": {},
     "output_type": "display_data"
    }
   ],
   "source": [
    "# a nasty bit of code to display everything in a nice table\n",
    "with pd.option_context('display.max_columns', None, 'display.max_rows', None):\n",
    "    display(HTML(df.describe().to_html()))"
   ]
  },
  {
   "cell_type": "markdown",
   "metadata": {},
   "source": [
    "# Build the meta classifier"
   ]
  },
  {
   "cell_type": "code",
   "execution_count": 261,
   "metadata": {
    "collapsed": true
   },
   "outputs": [],
   "source": [
    "classic_MVA_features = [\n",
    "    'B_OS_Muon_countTracks',  # aka mult\n",
    "    'B_OS_Muon_P',\n",
    "    'B_OS_Muon_PT',\n",
    "    'B_PT',\n",
    "    'B_OS_Muon_ABS_RecVertexIP',  # aka IPs\n",
    "    'B_OS_Muon_TRCHI2DOF',\n",
    "    'B_OS_Muon_PROBNNmu',\n",
    "    'B_OS_Muon_TRGHP',\n",
    "    'B_OS_Muon_IPPUs',\n",
    "]"
   ]
  },
  {
   "cell_type": "code",
   "execution_count": 262,
   "metadata": {
    "collapsed": true
   },
   "outputs": [],
   "source": [
    "# These are the classic cuts\n",
    "# queries = [\n",
    "#     'B_OS_Muon_P > 0',\n",
    "#     'B_OS_Muon_PT > 0.5',\n",
    "#     'B_OS_Muon_IsSignalDaughter == 0',\n",
    "#     'B_OS_Muon_phiDistance > 0.005',\n",
    "#     'B_OS_Muon_MuonPIDIsMuon == 1',\n",
    "#     'B_OS_Muon_TRCHI2DOF < 3',\n",
    "#     'B_OS_Muon_RecVertexIP > 0',\n",
    "#     'B_OS_Muon_TRGHP < 0.4',\n",
    "#     'B_OS_Muon_PROBNNmu > 0.35',\n",
    "#     'B_OS_Muon_PROBNNpi < 0.8',\n",
    "#     'B_OS_Muon_PROBNNe < 0.8',\n",
    "#     'B_OS_Muon_PROBNNk < 0.8',\n",
    "#     'B_OS_Muon_PROBNNp < 0.8',\n",
    "# #    'SigYield_sw > 0'\n",
    "# ]"
   ]
  },
  {
   "cell_type": "code",
   "execution_count": 306,
   "metadata": {
    "collapsed": true
   },
   "outputs": [],
   "source": [
    "train_data, test_data, train_labels, test_labels = train_test_split(df, df.target, test_size=0.5, random_state=0)"
   ]
  },
  {
   "cell_type": "code",
   "execution_count": 307,
   "metadata": {
    "collapsed": false
   },
   "outputs": [],
   "source": [
    "class CutBasedXGBClassifier(XGBClassifier):\n",
    "    def __init__(self, max_depth=3, learning_rate=0.1, n_estimators=100,\n",
    "                 silent=True, objective=\"reg:linear\",\n",
    "                 nthread=-1, gamma=0, min_child_weight=1, max_delta_step=0,\n",
    "                 subsample=1, colsample_bytree=1, colsample_bylevel=1,\n",
    "                 reg_alpha=0, reg_lambda=1, scale_pos_weight=1,\n",
    "                 base_score=0.5, seed=0, missing=None,\n",
    "                 P_column='B_OS_Muon_P', P_cut=0,\n",
    "                 PT_column='B_OS_Muon_PT', PT_cut=0.5,\n",
    "                 phiDistance_column='B_OS_Muon_phiDistance', phiDistance_cut=0.005,\n",
    "                 MuonPIDIsMuon_column='B_OS_Muon_MuonPIDIsMuon', MuonPIDIsMuon_cut=1,\n",
    "                 mvaFeatures=None, only_max_pt=True, event_identifier_column='B_PT',\n",
    "                 IsSignalDaughter_column='B_OS_Muon_IsSignalDaughter', IsSignalDaughter_cut=0,\n",
    "                 TRCHI2DOF_column='B_OS_Muon_TRCHI2DOF', TRCHI2DOF_cut=3,\n",
    "                 TRGHP_column='B_OS_Muon_TRGHP', TRGHP_cut=0.4,\n",
    "                 PROBNNmu_column='B_OS_Muon_PROBNNmu', PROBNNmu_cut=0.35,\n",
    "                 PROBNNpi_column='B_OS_Muon_PROBNNpi', PROBNNpi_cut=0.8,\n",
    "                 PROBNNe_column='B_OS_Muon_PROBNNe', PROBNNe_cut=0.8,\n",
    "                 PROBNNk_column='B_OS_Muon_PROBNNk', PROBNNk_cut=0.8,\n",
    "                 PROBNNp_column='B_OS_Muon_PROBNNp', PROBNNp_cut=0.8,\n",
    "                ):\n",
    "        self.cut_parameters = ['P', 'PT', 'phiDistance', 'MuonPIDIsMuon',\n",
    "                               'IsSignalDaughter', 'TRCHI2DOF', 'TRGHP',\n",
    "                               'PROBNNmu', 'PROBNNpi', 'PROBNNe', 'PROBNNk',\n",
    "                               'PROBNNp',\n",
    "                              ]\n",
    "        for cp in self.cut_parameters:\n",
    "            setattr(self, '{}_cut'.format(cp), locals()['{}_cut'.format(cp)])\n",
    "            setattr(self, '{}_column'.format(cp), locals()['{}_column'.format(cp)])\n",
    "        self.mvaFeatures = mvaFeatures\n",
    "        self.only_max_pt = only_max_pt\n",
    "        self.event_identifier_column = event_identifier_column\n",
    "        super(CutBasedXGBClassifier, self).__init__(max_depth=max_depth, learning_rate=learning_rate,\n",
    "                                                    n_estimators=n_estimators, silent=silent, objective=objective,\n",
    "                                                    nthread=nthread, gamma=gamma, min_child_weight=min_child_weight,\n",
    "                                                    max_delta_step=max_delta_step,\n",
    "                                                    subsample=subsample, colsample_bytree=colsample_bytree,\n",
    "                                                    colsample_bylevel=colsample_bylevel,\n",
    "                                                    reg_alpha=reg_alpha, reg_lambda=reg_lambda,\n",
    "                                                    scale_pos_weight=scale_pos_weight,\n",
    "                                                    base_score=base_score, seed=seed, missing=None)\n",
    "\n",
    "    def select(self, X, y=None):\n",
    "        len_before = len(np.unique(X[self.event_identifier_column]))\n",
    "        selection = ((X[self.P_column] > self.P_cut)\n",
    "                     & (X[self.PT_column] > self.PT_cut)\n",
    "                     & (X[self.phiDistance_column] > self.phiDistance_cut)\n",
    "                     & (X[self.MuonPIDIsMuon_column] == self.MuonPIDIsMuon_cut)\n",
    "                     & (X[self.IsSignalDaughter_column] == self.IsSignalDaughter_cut)\n",
    "                     & (X[self.TRCHI2DOF_column] < self.TRCHI2DOF_cut)\n",
    "                     & (X[self.TRGHP_column] < self.TRGHP_cut)\n",
    "                     & (X[self.PROBNNmu_column] > self.PROBNNmu_cut)\n",
    "                     & (X[self.PROBNNpi_column] < self.PROBNNpi_cut)\n",
    "                     & (X[self.PROBNNe_column] < self.PROBNNe_cut)\n",
    "                     & (X[self.PROBNNk_column] < self.PROBNNk_cut)\n",
    "                     & (X[self.PROBNNp_column] < self.PROBNNp_cut)\n",
    "                    )\n",
    "        X = X[selection]        \n",
    "        if y is not None:\n",
    "            y = y[selection]\n",
    "        \n",
    "        if self.only_max_pt:\n",
    "            X.reset_index(drop=True, inplace=True)\n",
    "            max_pt_indices = X.groupby(self.event_identifier_column)['B_OS_Muon_PT'].agg(np.argmax).astype('int')\n",
    "            X = X.iloc[max_pt_indices]\n",
    "            if y is not None:\n",
    "                y.reset_index(drop=True, inplace=True)\n",
    "                y = y.iloc[max_pt_indices]\n",
    "                \n",
    "        print(len(np.unique(X[self.event_identifier_column])) / len_before * 100)\n",
    "\n",
    "        if self.mvaFeatures:\n",
    "            X = X[self.mvaFeatures]\n",
    "        \n",
    "        if y is not None:\n",
    "            return X, y\n",
    "        else:\n",
    "            return X\n",
    "\n",
    "    def get_params(self, deep=False):\n",
    "        params = super(CutBasedXGBClassifier, self).get_params(deep=deep)\n",
    "        for cp in self.cut_parameters:\n",
    "            params['{}_cut'.format(cp)] = getattr(self, '{}_cut'.format(cp))\n",
    "            params['{}_column'.format(cp)] = getattr(self, '{}_column'.format(cp))\n",
    "        params['mvaFeatures'] = self.mvaFeatures\n",
    "        params['only_max_pt'] = self.only_max_pt\n",
    "        params['event_identifier_column'] = self.event_identifier_column\n",
    "        return params\n",
    "\n",
    "    def set_params(self, P_cut=None, PT_cut=None, phiDistance_cut=None,\n",
    "                   MuonPIDIsMuon_cut=None, mvaFeatures=None, only_max_pt=None,\n",
    "                   event_identifier_column=None, **kwargs):\n",
    "        for cp in self.cut_parameters:\n",
    "            if locals()['{}_cut'.format(cp)] is not None:\n",
    "                setattr(self, '{}_cut'.format(cp), locals()['{}_cut'.format(cp)])\n",
    "        if mvaFeatures:\n",
    "            self.mvaFeatures = mvaFeatures\n",
    "        if only_max_pt:\n",
    "            self.only_max_pt = only_max_pt\n",
    "        if event_identifier_column:\n",
    "            self.event_identifier_column = event_identifier_column\n",
    "        super(CutBasedXGBClassifier, self).set_params(**kwargs)\n",
    "        return self\n",
    "\n",
    "    def fit(self, X, y, eval_set=None, **kwargs):\n",
    "        if eval_set is not None:\n",
    "            eval_set = [self.select(X_, y_) for X_, y_ in eval_set]\n",
    "        return super(CutBasedXGBClassifier, self).fit(*self.select(X, y), eval_set=eval_set, **kwargs)\n",
    "\n",
    "    def predict_proba(self, data, **kwargs):\n",
    "        return super(CutBasedXGBClassifier, self).predict_proba(self.select(data), **kwargs)\n",
    "\n",
    "    def score(self, X, y, sample_weight=None):\n",
    "        probas = self.predict_proba(X)[:,1]\n",
    "        return roc_auc_score(self.select(X, y)[1], probas)"
   ]
  },
  {
   "cell_type": "code",
   "execution_count": 308,
   "metadata": {
    "collapsed": false
   },
   "outputs": [],
   "source": [
    "cbxgb = CutBasedXGBClassifier(mvaFeatures=classic_MVA_features, max_depth=5,\n",
    "                              n_estimators=300, learning_rate=0.01, seed=1)"
   ]
  },
  {
   "cell_type": "code",
   "execution_count": 309,
   "metadata": {
    "collapsed": false
   },
   "outputs": [
    {
     "name": "stdout",
     "output_type": "stream",
     "text": [
      "8.294\n"
     ]
    },
    {
     "data": {
      "text/plain": [
       "CutBasedXGBClassifier(IsSignalDaughter_column='B_OS_Muon_IsSignalDaughter',\n",
       "           IsSignalDaughter_cut=0,\n",
       "           MuonPIDIsMuon_column='B_OS_Muon_MuonPIDIsMuon',\n",
       "           MuonPIDIsMuon_cut=1, PROBNNe_column='B_OS_Muon_PROBNNe',\n",
       "           PROBNNe_cut=0.8, PROBNNk_column='B_OS_Muon_PROBNNk',\n",
       "           PROBNNk_cut=0.8, PROBNNmu_column='B_OS_Muon_PROBNNmu',\n",
       "           PROBNNmu_cut=0.35, PROBNNp_column='B_OS_Muon_PROBNNp',\n",
       "           PROBNNp_cut=0.8, PROBNNpi_column='B_OS_Muon_PROBNNpi',\n",
       "           PROBNNpi_cut=0.8, PT_column='B_OS_Muon_PT', PT_cut=0.5,\n",
       "           P_column='B_OS_Muon_P', P_cut=0,\n",
       "           TRCHI2DOF_column='B_OS_Muon_TRCHI2DOF', TRCHI2DOF_cut=3,\n",
       "           TRGHP_column='B_OS_Muon_TRGHP', TRGHP_cut=0.4, base_score=0.5,\n",
       "           colsample_bylevel=1, colsample_bytree=1,\n",
       "           event_identifier_column='B_PT', gamma=0, learning_rate=0.01,\n",
       "           max_delta_step=0, max_depth=5, min_child_weight=1, missing=None,\n",
       "           mvaFeatures=['B_OS_Muon_countTracks', 'B_OS_Muon_P', 'B_OS_Muon_PT', 'B_PT', 'B_OS_Muon_ABS_RecVertexIP', 'B_OS_Muon_TRCHI2DOF', 'B_OS_Muon_PROBNNmu', 'B_OS_Muon_TRGHP', 'B_OS_Muon_IPPUs'],\n",
       "           n_estimators=300, nthread=-1, objective='reg:linear',\n",
       "           only_max_pt=True, phiDistance_column='B_OS_Muon_phiDistance',\n",
       "           phiDistance_cut=0.005, reg_alpha=0, reg_lambda=1,\n",
       "           scale_pos_weight=1, seed=1, silent=True, subsample=1)"
      ]
     },
     "execution_count": 309,
     "metadata": {},
     "output_type": "execute_result"
    }
   ],
   "source": [
    "cbxgb.fit(train_data, train_labels)"
   ]
  },
  {
   "cell_type": "code",
   "execution_count": 310,
   "metadata": {
    "collapsed": false
   },
   "outputs": [
    {
     "name": "stdout",
     "output_type": "stream",
     "text": [
      "8.078000000000001\n",
      "8.078000000000001\n"
     ]
    },
    {
     "data": {
      "text/plain": [
       "0.33256867461607681"
      ]
     },
     "execution_count": 310,
     "metadata": {},
     "output_type": "execute_result"
    }
   ],
   "source": [
    "cbxgb.score(test_data, test_labels)"
   ]
  },
  {
   "cell_type": "code",
   "execution_count": 311,
   "metadata": {
    "collapsed": false
   },
   "outputs": [
    {
     "name": "stdout",
     "output_type": "stream",
     "text": [
      "8.294\n",
      "8.294\n"
     ]
    },
    {
     "data": {
      "text/plain": [
       "0.8129734716321757"
      ]
     },
     "execution_count": 311,
     "metadata": {},
     "output_type": "execute_result"
    }
   ],
   "source": [
    "cbxgb.score(train_data, train_labels)"
   ]
  },
  {
   "cell_type": "code",
   "execution_count": 271,
   "metadata": {
    "collapsed": true
   },
   "outputs": [],
   "source": [
    "y_test = cbxgb.select(test_data, test_labels)[1]\n",
    "probas = cbxgb.predict_proba(test_data)[:,1]"
   ]
  },
  {
   "cell_type": "code",
   "execution_count": 251,
   "metadata": {
    "collapsed": false
   },
   "outputs": [],
   "source": [
    "y_train = cbxgb.select(train_data, train_labels)[1]\n",
    "probas_train = cbxgb.predict_proba(train_data)[:,1]"
   ]
  },
  {
   "cell_type": "code",
   "execution_count": 252,
   "metadata": {
    "collapsed": false
   },
   "outputs": [
    {
     "data": {
      "image/png": "[encoded data removed]",
      "text/plain": [
       "<matplotlib.figure.Figure at 0x7fb75bd16d30>"
      ]
     },
     "metadata": {},
     "output_type": "display_data"
    }
   ],
   "source": [
    "plt.plot(*roc_curve(y_test, probas)[:2], label='Test')\n",
    "plt.plot(*roc_curve(y_train, probas_train)[:2], label='Train')\n",
    "plt.legend(loc='best')\n",
    "plt.show()"
   ]
  },
  {
   "cell_type": "code",
   "execution_count": 202,
   "metadata": {
    "collapsed": false
   },
   "outputs": [
    {
     "data": {
      "image/png": "[encoded data removed]",
      "text/plain": [
       "<matplotlib.figure.Figure at 0x7fb759ad1208>"
      ]
     },
     "metadata": {},
     "output_type": "display_data"
    }
   ],
   "source": [
    "precision, recall, thresholds = precision_recall_curve(y_test, probas)\n",
    "plt.plot(thresholds, precision[:-1], label='precision')\n",
    "plt.plot(thresholds, recall[:-1], label='recall')\n",
    "plt.legend(loc='best')\n",
    "plt.show()"
   ]
  },
  {
   "cell_type": "code",
   "execution_count": 208,
   "metadata": {
    "collapsed": false
   },
   "outputs": [],
   "source": [
    "grid_searcher = RandomizedSearchCV(CutBasedXGBClassifier(nthread=1, mvaFeatures=classic_MVA_features), {\n",
    "        'P_cut': np.linspace(0, 2, 10),\n",
    "        'PT_cut': np.linspace(0, 2, 10),\n",
    "        'phiDistance_cut': np.linspace(0, 0.5, 10),\n",
    "        'MuonPIDIsMuon_cut': [0, 1],\n",
    "        'learning_rate': np.arange(0.05, 0.3, 0.05),\n",
    "    }, n_jobs=40, n_iter=280)"
   ]
  },
  {
   "cell_type": "code",
   "execution_count": null,
   "metadata": {
    "collapsed": false
   },
   "outputs": [],
   "source": [
    "grid_searcher.fit(train_data, train_labels)"
   ]
  },
  {
   "cell_type": "code",
   "execution_count": null,
   "metadata": {
    "collapsed": false
   },
   "outputs": [],
   "source": [
    "grid_searcher.best_params_"
   ]
  },
  {
   "cell_type": "code",
   "execution_count": null,
   "metadata": {
    "collapsed": false
   },
   "outputs": [],
   "source": [
    "grid_searcher.best_score_"
   ]
  }
 ],
 "metadata": {
  "kernelspec": {
   "display_name": "Python 3",
   "language": "python",
   "name": "python3"
  },
  "language_info": {
   "codemirror_mode": {
    "name": "ipython",
    "version": 3
   },
   "file_extension": ".py",
   "mimetype": "text/x-python",
   "name": "python",
   "nbconvert_exporter": "python",
   "pygments_lexer": "ipython3",
   "version": "3.4.5"
  }
 },
 "nbformat": 4,
 "nbformat_minor": 0
}
