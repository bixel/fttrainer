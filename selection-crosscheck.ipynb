{
 "cells": [
  {
   "cell_type": "code",
   "execution_count": 2,
   "metadata": {
    "collapsed": true
   },
   "outputs": [],
   "source": [
    "from __future__ import division, print_function\n",
    "\n",
    "import matplotlib.pyplot as plt\n",
    "import numpy as np\n",
    "import pandas as pd\n",
    "\n",
    "import ROOT\n",
    "\n",
    "from root_pandas import read_root, to_root\n",
    "\n",
    "from xgboost import XGBClassifier\n",
    "from sklearn.cross_validation import train_test_split, cross_val_score\n",
    "from sklearn.metrics import roc_auc_score, roc_curve\n",
    "\n",
    "from uncertainties import ufloat"
   ]
  },
  {
   "cell_type": "code",
   "execution_count": 3,
   "metadata": {
    "collapsed": true
   },
   "outputs": [],
   "source": [
    "%matplotlib inline\n",
    "plt.style.use('ggplot')\n",
    "plt.rcParams['figure.figsize'] = (12, 7)\n",
    "plt.rcParams['font.size'] = 12"
   ]
  },
  {
   "cell_type": "code",
   "execution_count": 4,
   "metadata": {
    "collapsed": true
   },
   "outputs": [],
   "source": [
    "bdt_df = read_root('./data/bdt-selection-run1.root')"
   ]
  },
  {
   "cell_type": "code",
   "execution_count": 5,
   "metadata": {
    "collapsed": true
   },
   "outputs": [],
   "source": [
    "classic_df = read_root('./data/classic-selection-run1.root')"
   ]
  },
  {
   "cell_type": "code",
   "execution_count": 6,
   "metadata": {
    "collapsed": false
   },
   "outputs": [],
   "source": [
    "for df in [bdt_df, classic_df]:\n",
    "    df['event_id'] = df.runNumber.apply(str) + '_' + df.eventNumber.apply(str)"
   ]
  },
  {
   "cell_type": "code",
   "execution_count": 7,
   "metadata": {
    "collapsed": true
   },
   "outputs": [],
   "source": [
    "bdt_same = bdt_df[bdt_df.event_id.isin(classic_df.event_id)]"
   ]
  },
  {
   "cell_type": "code",
   "execution_count": 8,
   "metadata": {
    "collapsed": false
   },
   "outputs": [],
   "source": [
    "num_same = ufloat((bdt_same.__array_index == classic_df.__array_index).sum(), np.sqrt(len(classic_df)))\n",
    "num_total = ufloat(len(classic_df), np.sqrt(len(classic_df)))"
   ]
  },
  {
   "cell_type": "code",
   "execution_count": 9,
   "metadata": {
    "collapsed": false,
    "scrolled": true
   },
   "outputs": [
    {
     "name": "stdout",
     "output_type": "stream",
     "text": [
      "98.6+/-0.5\n"
     ]
    }
   ],
   "source": [
    "print(100 * num_same / num_total)"
   ]
  },
  {
   "cell_type": "markdown",
   "metadata": {},
   "source": [
    "## How different is Run1 vs Run2 data?"
   ]
  },
  {
   "cell_type": "code",
   "execution_count": 10,
   "metadata": {
    "collapsed": true
   },
   "outputs": [],
   "source": [
    "bdt_run2 = read_root('./data/bdt-selection-run2.root')"
   ]
  },
  {
   "cell_type": "code",
   "execution_count": 11,
   "metadata": {
    "collapsed": true
   },
   "outputs": [],
   "source": [
    "bdt_df['run'] = 1\n",
    "bdt_run2['run'] = 2"
   ]
  },
  {
   "cell_type": "code",
   "execution_count": 12,
   "metadata": {
    "collapsed": true
   },
   "outputs": [],
   "source": [
    "# equal number of events from both sets\n",
    "indices = np.arange(len(bdt_df))\n",
    "np.random.shuffle(indices)"
   ]
  },
  {
   "cell_type": "code",
   "execution_count": 13,
   "metadata": {
    "collapsed": false
   },
   "outputs": [],
   "source": [
    "bdt_df = bdt_df.iloc[indices[:len(bdt_run2)]]"
   ]
  },
  {
   "cell_type": "code",
   "execution_count": 14,
   "metadata": {
    "collapsed": true
   },
   "outputs": [],
   "source": [
    "df = pd.concat([bdt_df, bdt_run2])"
   ]
  },
  {
   "cell_type": "code",
   "execution_count": 15,
   "metadata": {
    "collapsed": true
   },
   "outputs": [],
   "source": [
    "# this is the list of BDT variables formerly used\n",
    "MVA_features = [\n",
    "    'tp_partP',\n",
    "    'tp_partPt',\n",
    "    'tp_IPPU',\n",
    "    'tp_ghostProb',\n",
    "    'tp_PIDNNm',\n",
    "    'tp_ABS_RecVertexIP',\n",
    "    'tp_mult',\n",
    "    'tp_ptB',\n",
    "    'tp_IPs',\n",
    "    'tp_partlcs',\n",
    "    'tp_PROBNNpi',\n",
    "    'tp_PROBNNk',\n",
    "    'tp_PROBNNp',\n",
    "    'tp_PROBNNe',\n",
    "]"
   ]
  },
  {
   "cell_type": "code",
   "execution_count": 16,
   "metadata": {
    "collapsed": true
   },
   "outputs": [],
   "source": [
    "train_df, test_df = train_test_split(df, test_size=0.5)"
   ]
  },
  {
   "cell_type": "code",
   "execution_count": 17,
   "metadata": {
    "collapsed": true
   },
   "outputs": [],
   "source": [
    "model = XGBClassifier(max_depth=5, n_estimators=300, nthread=12)"
   ]
  },
  {
   "cell_type": "code",
   "execution_count": 18,
   "metadata": {
    "collapsed": false
   },
   "outputs": [
    {
     "data": {
      "text/plain": [
       "XGBClassifier(base_score=0.5, colsample_bylevel=1, colsample_bytree=1,\n",
       "       gamma=0, learning_rate=0.1, max_delta_step=0, max_depth=5,\n",
       "       min_child_weight=1, missing=None, n_estimators=300, nthread=12,\n",
       "       objective='binary:logistic', reg_alpha=0, reg_lambda=1,\n",
       "       scale_pos_weight=1, seed=0, silent=True, subsample=1)"
      ]
     },
     "execution_count": 18,
     "metadata": {},
     "output_type": "execute_result"
    }
   ],
   "source": [
    "model.fit(train_df[MVA_features], train_df.run)"
   ]
  },
  {
   "cell_type": "code",
   "execution_count": 19,
   "metadata": {
    "collapsed": false
   },
   "outputs": [],
   "source": [
    "probas = model.predict_proba(test_df[MVA_features])\n",
    "probas_train = model.predict_proba(train_df[MVA_features])"
   ]
  },
  {
   "cell_type": "code",
   "execution_count": 20,
   "metadata": {
    "collapsed": false
   },
   "outputs": [],
   "source": [
    "test_score = roc_auc_score(test_df.run == 2, probas[:, 1])"
   ]
  },
  {
   "cell_type": "code",
   "execution_count": 21,
   "metadata": {
    "collapsed": false
   },
   "outputs": [],
   "source": [
    "fpr, tpr, _ = roc_curve(test_df.run == 2, probas[:, 1])\n",
    "fpr_train, tpr_train, _ = roc_curve(train_df.run == 2, probas_train[:, 1])"
   ]
  },
  {
   "cell_type": "code",
   "execution_count": null,
   "metadata": {
    "collapsed": true
   },
   "outputs": [],
   "source": []
  },
  {
   "cell_type": "code",
   "execution_count": 37,
   "metadata": {
    "collapsed": false
   },
   "outputs": [
    {
     "data": {
      "image/png": "[encoded data removed]",
      "text/plain": [
       "<matplotlib.figure.Figure at 0x7fb6cce00c90>"
      ]
     },
     "metadata": {},
     "output_type": "display_data"
    }
   ],
   "source": [
    "plt.figure(figsize=(6, 6))\n",
    "plt.plot([0, 1], '--', label='random')\n",
    "plt.plot(fpr, tpr, label=u'ROC AUC (90±4)%'.format(100 * test_score))\n",
    "# plt.plot(fpr_train, tpr_train, label='ROC curve (train)', alpha=0.5)\n",
    "plt.xlim(-0.05, 1.05)\n",
    "plt.ylim(0, 1.05)\n",
    "plt.legend(loc='best')\n",
    "plt.xlabel(r'false positive rate')\n",
    "plt.ylabel(r'true positive rate')\n",
    "plt.tight_layout()\n",
    "plt.savefig('./build/roc_curve_run1_run2.pdf', bbox_inches='tight')\n",
    "plt.show()"
   ]
  },
  {
   "cell_type": "code",
   "execution_count": 23,
   "metadata": {
    "collapsed": false
   },
   "outputs": [
    {
     "name": "stderr",
     "output_type": "stream",
     "text": [
      "[Parallel(n_jobs=1)]: Done  30 out of  30 | elapsed: 21.7min finished\n"
     ]
    }
   ],
   "source": [
    "score = cross_val_score(model, df[MVA_features], df.run == 1, scoring='roc_auc', n_jobs=1, cv=30, verbose=1)"
   ]
  },
  {
   "cell_type": "code",
   "execution_count": 29,
   "metadata": {
    "collapsed": false
   },
   "outputs": [
    {
     "name": "stdout",
     "output_type": "stream",
     "text": [
      "90+/-4\n"
     ]
    }
   ],
   "source": [
    "print(100 * ufloat(score.mean(), score.std()))"
   ]
  }
 ],
 "metadata": {
  "anaconda-cloud": {},
  "kernelspec": {
   "display_name": "Python 2",
   "language": "python",
   "name": "python2"
  },
  "language_info": {
   "codemirror_mode": {
    "name": "ipython",
    "version": 2
   },
   "file_extension": ".py",
   "mimetype": "text/x-python",
   "name": "python",
   "nbconvert_exporter": "python",
   "pygments_lexer": "ipython2",
   "version": "2.7.12"
  }
 },
 "nbformat": 4,
 "nbformat_minor": 1
}
