{
 "cells": [
  {
   "cell_type": "code",
   "execution_count": 1,
   "metadata": {
    "collapsed": true
   },
   "outputs": [],
   "source": [
    "from __future__ import division, print_function\n",
    "\n",
    "import matplotlib.pyplot as plt\n",
    "import numpy as np\n",
    "import pandas as pd\n",
    "\n",
    "import ROOT\n",
    "\n",
    "from root_pandas import read_root, to_root\n",
    "\n",
    "from xgboost import XGBClassifier\n",
    "from sklearn.cross_validation import train_test_split, cross_val_score\n",
    "from sklearn.metrics import roc_auc_score, roc_curve\n",
    "\n",
    "from uncertainties import ufloat"
   ]
  },
  {
   "cell_type": "code",
   "execution_count": 2,
   "metadata": {
    "collapsed": true
   },
   "outputs": [],
   "source": [
    "%matplotlib inline\n",
    "plt.style.use('ggplot')\n",
    "plt.rcParams['figure.figsize'] = (12, 7)\n",
    "plt.rcParams['font.size'] = 12"
   ]
  },
  {
   "cell_type": "code",
   "execution_count": 3,
   "metadata": {
    "collapsed": true
   },
   "outputs": [],
   "source": [
    "bdt_df = read_root('./data/bdt-selection-run1.root')"
   ]
  },
  {
   "cell_type": "code",
   "execution_count": 4,
   "metadata": {
    "collapsed": true
   },
   "outputs": [],
   "source": [
    "classic_df = read_root('./data/classic-selection-run1.root')"
   ]
  },
  {
   "cell_type": "code",
   "execution_count": 5,
   "metadata": {
    "collapsed": true
   },
   "outputs": [],
   "source": [
    "electron_df = read_root('./data/electron-classic-run1.root')"
   ]
  },
  {
   "cell_type": "code",
   "execution_count": 93,
   "metadata": {
    "collapsed": true
   },
   "outputs": [],
   "source": [
    "kaon_df = read_root('./data/kaon-classic-run1.root')"
   ]
  },
  {
   "cell_type": "code",
   "execution_count": 95,
   "metadata": {
    "collapsed": false
   },
   "outputs": [],
   "source": [
    "for df in [bdt_df, classic_df, electron_df, kaon_df]:\n",
    "    df['event_id'] = df.runNumber.apply(str) + '_' + df.eventNumber.apply(str)"
   ]
  },
  {
   "cell_type": "code",
   "execution_count": 68,
   "metadata": {
    "collapsed": true
   },
   "outputs": [],
   "source": [
    "d2total = ufloat(((1 - 2 * bdt_df.calib_proba) ** 2).sum(), np.sqrt(((1 - 2 * bdt_df.calib_proba) ** 2).sum()))"
   ]
  },
  {
   "cell_type": "markdown",
   "metadata": {},
   "source": [
    "### BDT $\\mu$ vs classic $\\mu$"
   ]
  },
  {
   "cell_type": "code",
   "execution_count": 69,
   "metadata": {
    "collapsed": true
   },
   "outputs": [],
   "source": [
    "bdt_same = bdt_df[bdt_df.event_id.isin(classic_df.event_id)]"
   ]
  },
  {
   "cell_type": "code",
   "execution_count": 70,
   "metadata": {
    "collapsed": false
   },
   "outputs": [],
   "source": [
    "num_same = ufloat((bdt_same.__array_index == classic_df.__array_index).sum(), np.sqrt(len(classic_df)))\n",
    "num_total = ufloat(len(classic_df), np.sqrt(len(classic_df)))\n",
    "same_weighted = ufloat(((1 - 2 * bdt_same.calib_proba)**2 * bdt_same.SigYield_sw * (bdt_same.tp_partP == classic_df.tp_partP)).sum(),\n",
    "                       np.sqrt(((1 - 2 * bdt_same.calib_proba)**2 * bdt_same.SigYield_sw).sum()))"
   ]
  },
  {
   "cell_type": "code",
   "execution_count": 71,
   "metadata": {
    "collapsed": false,
    "scrolled": true
   },
   "outputs": [
    {
     "name": "stdout",
     "output_type": "stream",
     "text": [
      "98.6+/-0.5\n",
      "14.53+/-0.16\n",
      "74.4+/-1.0\n"
     ]
    }
   ],
   "source": [
    "print(100 * num_same / num_total)\n",
    "print(100 * same_weighted / num_total)\n",
    "print(100 * same_weighted / d2total)"
   ]
  },
  {
   "cell_type": "code",
   "execution_count": 72,
   "metadata": {
    "collapsed": false
   },
   "outputs": [
    {
     "data": {
      "text/plain": [
       "<matplotlib.axes._subplots.AxesSubplot at 0x7f3a9220ce10>"
      ]
     },
     "execution_count": 72,
     "metadata": {},
     "output_type": "execute_result"
    },
    {
     "data": {
      "image/png": "[encoded data removed]",
      "text/plain": [
       "<matplotlib.figure.Figure at 0x7f3a920c8438>"
      ]
     },
     "metadata": {},
     "output_type": "display_data"
    }
   ],
   "source": [
    "bdt_same.proba.hist(bins=50)"
   ]
  },
  {
   "cell_type": "code",
   "execution_count": 88,
   "metadata": {
    "collapsed": false
   },
   "outputs": [
    {
     "data": {
      "text/plain": [
       "1.09827017190044"
      ]
     },
     "execution_count": 88,
     "metadata": {},
     "output_type": "execute_result"
    }
   ],
   "source": [
    "((1 - 2 * bdt_df.calib_proba) ** 2).sum() / len(bdt_df) * 100"
   ]
  },
  {
   "cell_type": "markdown",
   "metadata": {},
   "source": [
    "### BDT $\\mu$ vs classic $e^-$"
   ]
  },
  {
   "cell_type": "code",
   "execution_count": 107,
   "metadata": {
    "collapsed": true
   },
   "outputs": [],
   "source": [
    "e_same = bdt_df[bdt_df.event_id.isin(electron_df.event_id)]\n",
    "e_same_in_electron = electron_df[electron_df.event_id.isin(bdt_df.event_id)]"
   ]
  },
  {
   "cell_type": "code",
   "execution_count": 108,
   "metadata": {
    "collapsed": false
   },
   "outputs": [
    {
     "data": {
      "text/plain": [
       "0.0243957850119908"
      ]
     },
     "execution_count": 108,
     "metadata": {},
     "output_type": "execute_result"
    }
   ],
   "source": [
    "len(e_same) / len(bdt_df)"
   ]
  },
  {
   "cell_type": "code",
   "execution_count": 109,
   "metadata": {
    "collapsed": false
   },
   "outputs": [],
   "source": [
    "num_same = ufloat((e_same.tp_partP == electron_df.tp_partP).sum(), np.sqrt(len(electron_df)))\n",
    "num_total = ufloat(len(electron_df), np.sqrt(len(electron_df)))\n",
    "same_weighted = ufloat(((1 - 2 * e_same.calib_proba)**2 * e_same.SigYield_sw * (e_same.tp_partP == electron_df.tp_partP)).sum(),\n",
    "                       np.sqrt(((1 - 2 * e_same.calib_proba)**2 * e_same.SigYield_sw).sum()))"
   ]
  },
  {
   "cell_type": "code",
   "execution_count": 110,
   "metadata": {
    "collapsed": false,
    "scrolled": true
   },
   "outputs": [
    {
     "name": "stdout",
     "output_type": "stream",
     "text": [
      "74.0+/-0.7\n",
      "0.91+/-0.08\n",
      "2.03+/-0.17\n"
     ]
    }
   ],
   "source": [
    "print(100 * num_same / num_total)\n",
    "print(100 * same_weighted / num_total)\n",
    "print(100 * same_weighted / d2total)"
   ]
  },
  {
   "cell_type": "code",
   "execution_count": 192,
   "metadata": {
    "collapsed": false
   },
   "outputs": [
    {
     "data": {
      "image/png": "[encoded data removed]",
      "text/plain": [
       "<matplotlib.figure.Figure at 0x7f3a76dee898>"
      ]
     },
     "metadata": {},
     "output_type": "display_data"
    }
   ],
   "source": [
    "plt.figure(figsize=(6, 6))\n",
    "etas = e_same.calib_proba.where(e_same.calib_proba < 0.5, 1 - e_same.calib_proba)\n",
    "_, bins, _ = plt.hist(etas, bins=40, range=(0.1, 0.5))\n",
    "binwidth = bins[1] - bins[0]\n",
    "plt.xlabel(r'$\\eta$')\n",
    "plt.ylabel('Entries / {:.2f}'.format(binwidth))\n",
    "plt.tight_layout()\n",
    "plt.savefig('build/electron-same-etas.pdf', bbox_inches='tight')\n",
    "plt.show()"
   ]
  },
  {
   "cell_type": "code",
   "execution_count": 122,
   "metadata": {
    "collapsed": false,
    "scrolled": true
   },
   "outputs": [
    {
     "data": {
      "text/plain": [
       "1.0698465896201792"
      ]
     },
     "execution_count": 122,
     "metadata": {},
     "output_type": "execute_result"
    }
   ],
   "source": [
    "((1 - 2 * bdt_df[~bdt_df.tp_partP.isin(electron_df.tp_partP)].calib_proba) ** 2).sum() / len(bdt_df) * 100"
   ]
  },
  {
   "cell_type": "markdown",
   "metadata": {},
   "source": [
    "### BDT $\\mu$ vs $K^+$"
   ]
  },
  {
   "cell_type": "code",
   "execution_count": 112,
   "metadata": {
    "collapsed": false
   },
   "outputs": [],
   "source": [
    "k_same = bdt_df[bdt_df.event_id.isin(kaon_df.event_id)]\n",
    "k_same_in_electron = kaon_df[kaon_df.event_id.isin(bdt_df.event_id)]"
   ]
  },
  {
   "cell_type": "code",
   "execution_count": 113,
   "metadata": {
    "collapsed": false
   },
   "outputs": [
    {
     "data": {
      "text/plain": [
       "0.1458940938333492"
      ]
     },
     "execution_count": 113,
     "metadata": {},
     "output_type": "execute_result"
    }
   ],
   "source": [
    "len(k_same) / len(bdt_df)"
   ]
  },
  {
   "cell_type": "code",
   "execution_count": 114,
   "metadata": {
    "collapsed": false
   },
   "outputs": [],
   "source": [
    "num_same = ufloat((k_same.tp_partP == kaon_df.tp_partP).sum(), np.sqrt(len(kaon_df)))\n",
    "num_total = ufloat(len(kaon_df), np.sqrt(len(kaon_df)))\n",
    "same_weighted = ufloat(((1 - 2 * k_same.calib_proba)**2 * k_same.SigYield_sw * (k_same.tp_partP == kaon_df.tp_partP)).sum(),\n",
    "                       np.sqrt(((1 - 2 * k_same.calib_proba)**2 * k_same.SigYield_sw).sum()))"
   ]
  },
  {
   "cell_type": "code",
   "execution_count": 115,
   "metadata": {
    "collapsed": false
   },
   "outputs": [
    {
     "name": "stdout",
     "output_type": "stream",
     "text": [
      "0.65+/-0.24\n",
      "0.003+/-0.025\n",
      "0.03+/-0.34\n"
     ]
    }
   ],
   "source": [
    "print(100 * num_same / num_total)\n",
    "print(100 * same_weighted / num_total)\n",
    "print(100 * same_weighted / d2total)"
   ]
  },
  {
   "cell_type": "code",
   "execution_count": 118,
   "metadata": {
    "collapsed": false,
    "scrolled": false
   },
   "outputs": [
    {
     "data": {
      "image/png": "[encoded data removed]",
      "text/plain": [
       "<matplotlib.figure.Figure at 0x7f3a768a7b00>"
      ]
     },
     "metadata": {},
     "output_type": "display_data"
    },
    {
     "name": "stdout",
     "output_type": "stream",
     "text": [
      "0.52+/-0.04\n"
     ]
    }
   ],
   "source": [
    "k_same.proba.hist(bins=100)\n",
    "plt.show()\n",
    "print(ufloat(k_same.proba.mean(), k_same.proba.std()))"
   ]
  },
  {
   "cell_type": "code",
   "execution_count": 121,
   "metadata": {
    "collapsed": false,
    "scrolled": true
   },
   "outputs": [
    {
     "data": {
      "text/plain": [
       "1.0623510105587775"
      ]
     },
     "execution_count": 121,
     "metadata": {},
     "output_type": "execute_result"
    }
   ],
   "source": [
    "((1 - 2 * bdt_df[~bdt_df.tp_partP.isin(kaon_df.tp_partP)].calib_proba) ** 2).sum() / len(bdt_df) * 100"
   ]
  },
  {
   "cell_type": "markdown",
   "metadata": {},
   "source": [
    "### Overlap classic $K^+$ vs $e^-$"
   ]
  },
  {
   "cell_type": "code",
   "execution_count": 131,
   "metadata": {
    "collapsed": true
   },
   "outputs": [],
   "source": [
    "same_in_k = kaon_df[kaon_df.event_id.isin(electron_df.event_id)]\n",
    "same_in_e = electron_df[electron_df.event_id.isin(kaon_df.event_id)]"
   ]
  },
  {
   "cell_type": "code",
   "execution_count": 138,
   "metadata": {
    "collapsed": false
   },
   "outputs": [],
   "source": [
    "num_same_event = ufloat(len(same_in_k), np.sqrt(len(same_in_k)))\n",
    "num_same = ufloat((same_in_k.tp_partP == same_in_e.tp_partP).sum(), np.sqrt(len(same_in_k)))\n",
    "num_total_k = ufloat(len(kaon_df), np.sqrt(len(kaon_df)))\n",
    "num_total_e = ufloat(len(electron_df), np.sqrt(len(electron_df)))"
   ]
  },
  {
   "cell_type": "code",
   "execution_count": 176,
   "metadata": {
    "collapsed": false
   },
   "outputs": [
    {
     "name": "stdout",
     "output_type": "stream",
     "text": [
      "Fraction of same events in k:             3.70 +/- 0.05 \n",
      "Fraction of same events in e:            22.13 +/- 0.30 \n",
      "Fraction of same tagging particles in k:  0.43 +/- 0.05 \n",
      "Fraction of same tagging particles in e:  2.57 +/- 0.27 \n"
     ]
    }
   ],
   "source": [
    "print('Fraction of same events in k:'.ljust(40), '{:^6}'.format(100 * num_same_event / num_total_k))\n",
    "print('Fraction of same events in e:'.ljust(40), '{:^6}'.format(100 * num_same_event / num_total_e))\n",
    "print('Fraction of same tagging particles in k:'.ljust(40), '{:^6}'.format(100 * num_same / num_total_k))\n",
    "print('Fraction of same tagging particles in e:'.ljust(40), '{:^6}'.format(100 * num_same / num_total_e))"
   ]
  },
  {
   "cell_type": "markdown",
   "metadata": {},
   "source": [
    "## How different is Run1 vs Run2 data?"
   ]
  },
  {
   "cell_type": "code",
   "execution_count": 10,
   "metadata": {
    "collapsed": true
   },
   "outputs": [],
   "source": [
    "bdt_run2 = read_root('./data/bdt-selection-run2.root')"
   ]
  },
  {
   "cell_type": "code",
   "execution_count": 11,
   "metadata": {
    "collapsed": true
   },
   "outputs": [],
   "source": [
    "bdt_df['run'] = 1\n",
    "bdt_run2['run'] = 2"
   ]
  },
  {
   "cell_type": "code",
   "execution_count": 12,
   "metadata": {
    "collapsed": true
   },
   "outputs": [],
   "source": [
    "# equal number of events from both sets\n",
    "indices = np.arange(len(bdt_df))\n",
    "np.random.shuffle(indices)"
   ]
  },
  {
   "cell_type": "code",
   "execution_count": 13,
   "metadata": {
    "collapsed": false
   },
   "outputs": [],
   "source": [
    "bdt_df = bdt_df.iloc[indices[:len(bdt_run2)]]"
   ]
  },
  {
   "cell_type": "code",
   "execution_count": 14,
   "metadata": {
    "collapsed": true
   },
   "outputs": [],
   "source": [
    "df = pd.concat([bdt_df, bdt_run2])"
   ]
  },
  {
   "cell_type": "code",
   "execution_count": 15,
   "metadata": {
    "collapsed": true
   },
   "outputs": [],
   "source": [
    "# this is the list of BDT variables formerly used\n",
    "MVA_features = [\n",
    "    'tp_partP',\n",
    "    'tp_partPt',\n",
    "    'tp_IPPU',\n",
    "    'tp_ghostProb',\n",
    "    'tp_PIDNNm',\n",
    "    'tp_ABS_RecVertexIP',\n",
    "    'tp_mult',\n",
    "    'tp_ptB',\n",
    "    'tp_IPs',\n",
    "    'tp_partlcs',\n",
    "    'tp_PROBNNpi',\n",
    "    'tp_PROBNNk',\n",
    "    'tp_PROBNNp',\n",
    "    'tp_PROBNNe',\n",
    "]"
   ]
  },
  {
   "cell_type": "code",
   "execution_count": 16,
   "metadata": {
    "collapsed": true
   },
   "outputs": [],
   "source": [
    "train_df, test_df = train_test_split(df, test_size=0.5)"
   ]
  },
  {
   "cell_type": "code",
   "execution_count": 17,
   "metadata": {
    "collapsed": true
   },
   "outputs": [],
   "source": [
    "model = XGBClassifier(max_depth=5, n_estimators=300, nthread=12)"
   ]
  },
  {
   "cell_type": "code",
   "execution_count": 18,
   "metadata": {
    "collapsed": false
   },
   "outputs": [
    {
     "data": {
      "text/plain": [
       "XGBClassifier(base_score=0.5, colsample_bylevel=1, colsample_bytree=1,\n",
       "       gamma=0, learning_rate=0.1, max_delta_step=0, max_depth=5,\n",
       "       min_child_weight=1, missing=None, n_estimators=300, nthread=12,\n",
       "       objective='binary:logistic', reg_alpha=0, reg_lambda=1,\n",
       "       scale_pos_weight=1, seed=0, silent=True, subsample=1)"
      ]
     },
     "execution_count": 18,
     "metadata": {},
     "output_type": "execute_result"
    }
   ],
   "source": [
    "model.fit(train_df[MVA_features], train_df.run)"
   ]
  },
  {
   "cell_type": "code",
   "execution_count": 19,
   "metadata": {
    "collapsed": false
   },
   "outputs": [],
   "source": [
    "probas = model.predict_proba(test_df[MVA_features])\n",
    "probas_train = model.predict_proba(train_df[MVA_features])"
   ]
  },
  {
   "cell_type": "code",
   "execution_count": 20,
   "metadata": {
    "collapsed": false
   },
   "outputs": [],
   "source": [
    "test_score = roc_auc_score(test_df.run == 2, probas[:, 1])"
   ]
  },
  {
   "cell_type": "code",
   "execution_count": 21,
   "metadata": {
    "collapsed": false
   },
   "outputs": [],
   "source": [
    "fpr, tpr, _ = roc_curve(test_df.run == 2, probas[:, 1])\n",
    "fpr_train, tpr_train, _ = roc_curve(train_df.run == 2, probas_train[:, 1])"
   ]
  },
  {
   "cell_type": "code",
   "execution_count": null,
   "metadata": {
    "collapsed": true
   },
   "outputs": [],
   "source": []
  },
  {
   "cell_type": "code",
   "execution_count": 37,
   "metadata": {
    "collapsed": false
   },
   "outputs": [
    {
     "data": {
      "image/png": "[encoded data removed]",
      "text/plain": [
       "<matplotlib.figure.Figure at 0x7fb6cce00c90>"
      ]
     },
     "metadata": {},
     "output_type": "display_data"
    }
   ],
   "source": [
    "plt.figure(figsize=(6, 6))\n",
    "plt.plot([0, 1], '--', label='random')\n",
    "plt.plot(fpr, tpr, label=u'ROC AUC (90±4)%'.format(100 * test_score))\n",
    "# plt.plot(fpr_train, tpr_train, label='ROC curve (train)', alpha=0.5)\n",
    "plt.xlim(-0.05, 1.05)\n",
    "plt.ylim(0, 1.05)\n",
    "plt.legend(loc='best')\n",
    "plt.xlabel(r'false positive rate')\n",
    "plt.ylabel(r'true positive rate')\n",
    "plt.tight_layout()\n",
    "plt.savefig('./build/roc_curve_run1_run2.pdf', bbox_inches='tight')\n",
    "plt.show()"
   ]
  },
  {
   "cell_type": "code",
   "execution_count": 23,
   "metadata": {
    "collapsed": false
   },
   "outputs": [
    {
     "name": "stderr",
     "output_type": "stream",
     "text": [
      "[Parallel(n_jobs=1)]: Done  30 out of  30 | elapsed: 21.7min finished\n"
     ]
    }
   ],
   "source": [
    "score = cross_val_score(model, df[MVA_features], df.run == 1, scoring='roc_auc', n_jobs=1, cv=30, verbose=1)"
   ]
  },
  {
   "cell_type": "code",
   "execution_count": 29,
   "metadata": {
    "collapsed": false
   },
   "outputs": [
    {
     "name": "stdout",
     "output_type": "stream",
     "text": [
      "90+/-4\n"
     ]
    }
   ],
   "source": [
    "print(100 * ufloat(score.mean(), score.std()))"
   ]
  }
 ],
 "metadata": {
  "anaconda-cloud": {},
  "kernelspec": {
   "display_name": "Python 3",
   "language": "python",
   "name": "python3"
  },
  "language_info": {
   "codemirror_mode": {
    "name": "ipython",
    "version": 3
   },
   "file_extension": ".py",
   "mimetype": "text/x-python",
   "name": "python",
   "nbconvert_exporter": "python",
   "pygments_lexer": "ipython3",
   "version": "3.4.5"
  }
 },
 "nbformat": 4,
 "nbformat_minor": 1
}
